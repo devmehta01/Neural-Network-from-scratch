{
  "nbformat": 4,
  "nbformat_minor": 0,
  "metadata": {
    "colab": {
      "name": "DL_2_final.ipynb",
      "provenance": [],
      "collapsed_sections": []
    },
    "kernelspec": {
      "name": "python3",
      "display_name": "Python 3"
    },
    "language_info": {
      "name": "python"
    },
    "accelerator": "GPU"
  },
  "cells": [
    {
      "cell_type": "code",
      "source": [
        "import numpy as np\n",
        "import matplotlib.pyplot as plt\n",
        "import h5py\n",
        "\n",
        "%matplotlib inline\n",
        "plt.rcParams['figure.figsize'] = (5.0, 4.0) # set default size of plots\n",
        "plt.rcParams['image.interpolation'] = 'nearest'\n",
        "plt.rcParams['image.cmap'] = 'gray'\n",
        "\n",
        "np.random.seed(1)"
      ],
      "metadata": {
        "id": "vpbBEry4UQBW"
      },
      "execution_count": null,
      "outputs": []
    },
    {
      "cell_type": "code",
      "source": [
        "#initialize the parameters randomly\n",
        "def param_init(dim_layer):\n",
        "    np.random.seed(1)\n",
        "    params = {}\n",
        "    length = len(dim_layer)            \n",
        "    for i in range(1, length):\n",
        "        params['W' + str(i)] = np.random.randn(dim_layer[i], dim_layer[i-1]) / np.sqrt(dim_layer[i-1]) #*0.01\n",
        "        params['b' + str(i)] = np.zeros((dim_layer[i], 1))\n",
        "    return params"
      ],
      "metadata": {
        "id": "4XI36yIPUnyl"
      },
      "execution_count": null,
      "outputs": []
    },
    {
      "cell_type": "code",
      "source": [
        "#sigmoid activation function\n",
        "def sigmoid(z):\n",
        "    a = 1/(1+np.exp(-z))\n",
        "    prev = z\n",
        "    return a, prev"
      ],
      "metadata": {
        "id": "LggDRNnIUomc"
      },
      "execution_count": null,
      "outputs": []
    },
    {
      "cell_type": "code",
      "source": [
        "#rectified linear activation function\n",
        "def relu(z):\n",
        "    a = np.maximum(0,z)\n",
        "    prev = z \n",
        "    return a, prev"
      ],
      "metadata": {
        "id": "X2IAp-m6Uqb6"
      },
      "execution_count": null,
      "outputs": []
    },
    {
      "cell_type": "code",
      "source": [
        "#essentially y=mx+c\n",
        "def forward(a, W, b):\n",
        "    z = W.dot(a) + b\n",
        "    #store prev values because we will need it for backprop\n",
        "    prev = (a, W, b)\n",
        "    return z, prev"
      ],
      "metadata": {
        "id": "Ce5WUZCTU1i0"
      },
      "execution_count": null,
      "outputs": []
    },
    {
      "cell_type": "code",
      "source": [
        "#after y=mx+c, we need to pass it through activation fn. a = activation_function(y)\n",
        "def forward_prop_activation(a_prev, W, b, act_fn):\n",
        "    if act_fn == \"sigmoid\":\n",
        "        z, prev_linear = forward(a_prev, W, b)\n",
        "        a, prev_activation = sigmoid(z)\n",
        "    elif act_fn == \"relu\":\n",
        "        z, prev_linear = forward(a_prev, W, b)\n",
        "        a, prev_activation = relu(z)\n",
        "    #store the prev values because we will need it for backprop\n",
        "    prev = (prev_linear, prev_activation)\n",
        "    return a, prev"
      ],
      "metadata": {
        "id": "pI_qoWYsU3uV"
      },
      "execution_count": null,
      "outputs": []
    },
    {
      "cell_type": "code",
      "source": [
        "#start feed forward. 1st to 2nd last layer is relu and last layer is sigmoid\n",
        "def forward_prop(X, params):\n",
        "    prevs = []\n",
        "    a = X\n",
        "    length = len(params) // 2 \n",
        "    for i in range(1, length):\n",
        "        a_prev = a \n",
        "        a, prev = forward_prop_activation(a_prev, params['W' + str(i)], params['b' + str(i)], act_fn = \"relu\")\n",
        "        prevs.append(prev)\n",
        "    yhat, prev = forward_prop_activation(a, params['W' + str(length)], params['b' + str(length)], act_fn = \"sigmoid\")\n",
        "    prevs.append(prev)\n",
        "    return yhat, prevs"
      ],
      "metadata": {
        "id": "lsOVJF-IU7Ef"
      },
      "execution_count": null,
      "outputs": []
    },
    {
      "cell_type": "code",
      "source": [
        "#calculate cross entropy loss or mean square loss\n",
        "def error_calc(yhat, y):\n",
        "    m = y.shape[1]\n",
        "    #error = (np.sum((y-yhat)**2))/m #mean sqaure error\n",
        "    error = (1./m) * (-np.dot(y,np.log(yhat).T) - np.dot(1-y, np.log(1-yhat).T)) #cross entropy error\n",
        "    error = np.squeeze(error)      # [[X]] into X).\n",
        "    return error"
      ],
      "metadata": {
        "id": "v_VkBHRZU93y"
      },
      "execution_count": null,
      "outputs": []
    },
    {
      "cell_type": "code",
      "source": [
        "#backprop for sigmoid activation fn\n",
        "def back_prop_sigmoid(da, prev):\n",
        "    z = prev\n",
        "    s = 1/(1+np.exp(-z))\n",
        "    dz = da*s*(1-s)\n",
        "    return dz"
      ],
      "metadata": {
        "id": "SnLo8SeqUvYo"
      },
      "execution_count": null,
      "outputs": []
    },
    {
      "cell_type": "code",
      "source": [
        "#backprop for relu activation fn\n",
        "def back_prop_relu(da, prev):\n",
        "    z = prev\n",
        "    dz = np.array(da, copy=True)\n",
        "    dz[z<=0]=0\n",
        "    return dz"
      ],
      "metadata": {
        "id": "YwFbMeOpUtTp"
      },
      "execution_count": null,
      "outputs": []
    },
    {
      "cell_type": "code",
      "source": [
        "#backprop for the linear eq\n",
        "def back(dz, prev):\n",
        "    a_prev, W, b = prev\n",
        "    m = a_prev.shape[1]\n",
        "    dW = np.dot(dz,a_prev.T)/m\n",
        "    db = np.sum(dz, axis = 1, keepdims = True)/m\n",
        "    da_prev = np.dot(W.T,dz)\n",
        "    return da_prev, dW, db"
      ],
      "metadata": {
        "id": "XjoQO10eVAtZ"
      },
      "execution_count": null,
      "outputs": []
    },
    {
      "cell_type": "code",
      "source": [
        "#backpop for the activation fn and linear combined\n",
        "def back_prop_activation(da, prev, act_fn):\n",
        "    prev_linear, prev_activation = prev\n",
        "    \n",
        "    if act_fn == \"relu\":\n",
        "        dz = back_prop_relu(da, prev_activation)\n",
        "        da_prev, dW, db = back(dz, prev_linear)\n",
        "        \n",
        "    elif act_fn == \"sigmoid\":\n",
        "        dz = back_prop_sigmoid(da, prev_activation)\n",
        "        da_prev, dW, db = back(dz, prev_linear)\n",
        "    \n",
        "    return da_prev, dW, db"
      ],
      "metadata": {
        "id": "-rMuaEK3VCxW"
      },
      "execution_count": null,
      "outputs": []
    },
    {
      "cell_type": "code",
      "source": [
        "#main backprop function\n",
        "def back_prop(yhat, Y, prevs):\n",
        "    gradients = {}\n",
        "    length = len(prevs) \n",
        "    m = yhat.shape[1]\n",
        "    Y = Y.reshape(yhat.shape)\n",
        "    \n",
        "    dyhat = - (np.divide(Y, yhat) - np.divide(1 - Y, 1 - yhat))\n",
        "    \n",
        "    latest_prev = prevs[length-1]\n",
        "    gradients[\"da\" + str(length-1)], gradients[\"dW\" + str(length)], gradients[\"db\" + str(length)] = back_prop_activation(dyhat, latest_prev, act_fn = \"sigmoid\")\n",
        "    \n",
        "    for i in reversed(range(length-1)):\n",
        "        latest_prev = prevs[i]\n",
        "        da_prev_temp, dW_temp, db_temp = back_prop_activation(gradients[\"da\" + str(i + 1)], latest_prev, act_fn = \"relu\")\n",
        "        gradients[\"da\" + str(i)] = da_prev_temp\n",
        "        gradients[\"dW\" + str(i + 1)] = dW_temp\n",
        "        gradients[\"db\" + str(i + 1)] = db_temp\n",
        "\n",
        "    return gradients"
      ],
      "metadata": {
        "id": "kxMxavNsVE5A"
      },
      "execution_count": null,
      "outputs": []
    },
    {
      "cell_type": "code",
      "source": [
        "#update weights using W = W - alpha*dW\n",
        "def weight_update(params, gradients, alpha_lr):\n",
        "    length = len(params) // 2 \n",
        "    for i in range(length):\n",
        "        params[\"W\" + str(i+1)] = params[\"W\" + str(i+1)] - alpha_lr * gradients[\"dW\" + str(i+1)]\n",
        "        params[\"b\" + str(i+1)] = params[\"b\" + str(i+1)] - alpha_lr * gradients[\"db\" + str(i+1)]       \n",
        "    return params"
      ],
      "metadata": {
        "id": "AwYpiL65VJqw"
      },
      "execution_count": null,
      "outputs": []
    },
    {
      "cell_type": "code",
      "source": [
        "#function to load the data\n",
        "def load_data():\n",
        "    training_data = h5py.File('/content/train_catvnoncat.h5', \"r\")\n",
        "    train_x_orig = np.array(training_data[\"train_set_x\"][:])\n",
        "    train_y_orig = np.array(training_data[\"train_set_y\"][:])\n",
        "\n",
        "    testing_data = h5py.File('/content/test_catvnoncat.h5', \"r\")\n",
        "    test_x_orig = np.array(testing_data[\"test_set_x\"][:])\n",
        "    test_y_orig = np.array(testing_data[\"test_set_y\"][:])\n",
        "\n",
        "    classes = np.array(testing_data[\"list_classes\"][:])\n",
        "    \n",
        "    train_y_orig = train_y_orig.reshape((1, train_y_orig.shape[0]))\n",
        "    test_y_orig = test_y_orig.reshape((1, test_y_orig.shape[0]))\n",
        "    \n",
        "    return train_x_orig, train_y_orig, test_x_orig, test_y_orig, classes"
      ],
      "metadata": {
        "id": "E2kzHTO9UzKQ"
      },
      "execution_count": null,
      "outputs": []
    },
    {
      "cell_type": "code",
      "source": [
        "train_x_orig, train_y, test_x_orig, test_y, classes = load_data()"
      ],
      "metadata": {
        "id": "9gzTgdknSQTS"
      },
      "execution_count": null,
      "outputs": []
    },
    {
      "cell_type": "code",
      "source": [
        "print(\"train_x_orig shape: \" + str(train_x_orig.shape))\n",
        "print(\"train_y shape: \" + str(train_y.shape))\n",
        "print(\"test_x_orig shape: \" + str(test_x_orig.shape))\n",
        "print(\"test_y shape: \" + str(test_y.shape))"
      ],
      "metadata": {
        "colab": {
          "base_uri": "https://localhost:8080/"
        },
        "id": "g26lOzV7SV1C",
        "outputId": "cf73da84-1c56-4522-8b1b-ffdaa1e31aab"
      },
      "execution_count": null,
      "outputs": [
        {
          "output_type": "stream",
          "name": "stdout",
          "text": [
            "train_x_orig shape: (209, 64, 64, 3)\n",
            "train_y shape: (1, 209)\n",
            "test_x_orig shape: (50, 64, 64, 3)\n",
            "test_y shape: (1, 50)\n"
          ]
        }
      ]
    },
    {
      "cell_type": "code",
      "source": [
        "train_x_flatten = train_x_orig.reshape(train_x_orig.shape[0], -1).T \n",
        "test_x_flatten = test_x_orig.reshape(test_x_orig.shape[0], -1).T\n",
        "\n",
        "# Standardize so feature values are b/w 0 and 1\n",
        "train_x = train_x_flatten/255\n",
        "test_x = test_x_flatten/255\n",
        "\n",
        "print (\"train_x's shape: \" + str(train_x.shape))\n",
        "print (\"test_x's shape: \" + str(test_x.shape))"
      ],
      "metadata": {
        "colab": {
          "base_uri": "https://localhost:8080/"
        },
        "id": "lMhC2IdhSWk9",
        "outputId": "7d510923-8bf2-48c4-cc46-4f474777739e"
      },
      "execution_count": null,
      "outputs": [
        {
          "output_type": "stream",
          "name": "stdout",
          "text": [
            "train_x's shape: (12288, 209)\n",
            "test_x's shape: (12288, 50)\n"
          ]
        }
      ]
    },
    {
      "cell_type": "code",
      "source": [
        "def model_train(X, Y, dim_layers, alpha_lr = 0.0075, epochs = 3000):#lr was 0.009\n",
        "    np.random.seed(1)\n",
        "    errors = [] \n",
        "    params = param_init(dim_layers)\n",
        "    for epoch_no in range(0, epochs):\n",
        "        #feed forward\n",
        "        yhat, caches = forward_prop(X, params)\n",
        "        #error calc\n",
        "        error = error_calc(yhat, Y)\n",
        "        #backprop\n",
        "        gradients = back_prop(yhat, Y, caches)\n",
        "        #weight update\n",
        "        params = weight_update(params, gradients, alpha_lr)\n",
        "                \n",
        "        if epoch_no%100 == 0:\n",
        "          print(\"Error at epoch number \" + str(epoch_no) + \" is \" + str(error))\n",
        "          errors.append(error)\n",
        "            \n",
        "    plt.plot(np.squeeze(errors))\n",
        "    plt.ylabel('error')\n",
        "    plt.xlabel('epochs (per hundreds)')\n",
        "    plt.title('using cross entropy error')\n",
        "    plt.show()\n",
        "    \n",
        "    return params"
      ],
      "metadata": {
        "id": "Td1AaCQ5Savz"
      },
      "execution_count": null,
      "outputs": []
    },
    {
      "cell_type": "code",
      "source": [
        "#Enter hyperparameters here \n",
        "#Number of layers = number of elements\n",
        "#Number of nodes in each layer = value of each element\n",
        "dim_layers = [12288, 30, 20, 7, 5, 1]\n",
        "alpha_lr = 0.0075\n",
        "epochs = 2000"
      ],
      "metadata": {
        "id": "PhqdS0pSSYgB"
      },
      "execution_count": null,
      "outputs": []
    },
    {
      "cell_type": "code",
      "source": [
        "params = model_train(train_x, train_y, dim_layers, alpha_lr, epochs)"
      ],
      "metadata": {
        "colab": {
          "base_uri": "https://localhost:8080/",
          "height": 642
        },
        "id": "Lh1TfDKgSc-y",
        "outputId": "520f2824-82d2-48c9-ea97-43d4a08a1d13"
      },
      "execution_count": null,
      "outputs": [
        {
          "output_type": "stream",
          "name": "stdout",
          "text": [
            "Error at epoch number 0 is 0.2506965137559553\n",
            "Error at epoch number 100 is 0.20633487543734239\n",
            "Error at epoch number 200 is 0.16108607980772183\n",
            "Error at epoch number 300 is 0.1310465769555118\n",
            "Error at epoch number 400 is 0.10189102303087076\n",
            "Error at epoch number 500 is 0.11656283542944157\n",
            "Error at epoch number 600 is 0.030433559653676955\n",
            "Error at epoch number 700 is 0.010623439291159269\n",
            "Error at epoch number 800 is 0.0064701302693270036\n",
            "Error at epoch number 900 is 0.00498456885341758\n",
            "Error at epoch number 1000 is 0.004439361040831979\n",
            "Error at epoch number 1100 is 0.0041542898823279635\n",
            "Error at epoch number 1200 is 0.00398462357925726\n",
            "Error at epoch number 1300 is 0.003878653834447156\n",
            "Error at epoch number 1400 is 0.003804001765450779\n",
            "Error at epoch number 1500 is 0.003748766585222687\n",
            "Error at epoch number 1600 is 0.003704762861227517\n",
            "Error at epoch number 1700 is 0.0036667334055574736\n",
            "Error at epoch number 1800 is 0.0036351506048975355\n",
            "Error at epoch number 1900 is 0.0036059703587359372\n"
          ]
        },
        {
          "output_type": "display_data",
          "data": {
            "text/plain": [
              "<Figure size 432x288 with 1 Axes>"
            ],
            "image/png": "[encoded data removed]"
          },
          "metadata": {
            "needs_background": "light"
          }
        }
      ]
    },
    {
      "cell_type": "code",
      "source": [
        "params = model_train(train_x, train_y, dim_layers, epochs = 2000)"
      ],
      "metadata": {
        "colab": {
          "base_uri": "https://localhost:8080/",
          "height": 642
        },
        "id": "edmVT7Qffj3i",
        "outputId": "c4423694-8f26-4ce7-ee24-c56200bd8219"
      },
      "execution_count": null,
      "outputs": [
        {
          "output_type": "stream",
          "name": "stdout",
          "text": [
            "Error at epoch number 0 is 0.6945407266458821\n",
            "Error at epoch number 100 is 0.6023791979317227\n",
            "Error at epoch number 200 is 0.493691308443186\n",
            "Error at epoch number 300 is 0.40897379786727944\n",
            "Error at epoch number 400 is 0.32500436871879385\n",
            "Error at epoch number 500 is 0.3546172707015601\n",
            "Error at epoch number 600 is 0.1234134379393858\n",
            "Error at epoch number 700 is 0.06137048818200425\n",
            "Error at epoch number 800 is 0.0401848482649078\n",
            "Error at epoch number 900 is 0.029938839824625144\n",
            "Error at epoch number 1000 is 0.02454600194490176\n",
            "Error at epoch number 1100 is 0.021073449121849882\n",
            "Error at epoch number 1200 is 0.018835804471884023\n",
            "Error at epoch number 1300 is 0.017259521542887707\n",
            "Error at epoch number 1400 is 0.016074754559685656\n",
            "Error at epoch number 1500 is 0.01517674228454926\n",
            "Error at epoch number 1600 is 0.014484536228562063\n",
            "Error at epoch number 1700 is 0.013895166077046108\n",
            "Error at epoch number 1800 is 0.013451218269776832\n",
            "Error at epoch number 1900 is 0.013052738777412462\n"
          ]
        },
        {
          "output_type": "display_data",
          "data": {
            "text/plain": [
              "<Figure size 432x288 with 1 Axes>"
            ],
            "image/png": "[encoded data removed]"
          },
          "metadata": {
            "needs_background": "light"
          }
        }
      ]
    }
  ]
}